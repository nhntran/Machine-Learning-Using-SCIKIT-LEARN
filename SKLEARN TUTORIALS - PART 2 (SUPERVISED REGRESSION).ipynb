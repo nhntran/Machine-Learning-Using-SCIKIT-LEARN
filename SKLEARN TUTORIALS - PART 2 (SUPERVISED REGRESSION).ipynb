{
 "cells": [
  {
   "cell_type": "markdown",
   "metadata": {},
   "source": [
    "# SUPERVISED REGRESSION ALGORITHMS\n",
    "\n",
    "**CONTENTS**\n",
    "\n",
    "- [Simple linear regression](#linear)\n",
    "- [Regularization](#regularization)\n",
    "    + [Lasso Regression (L1 regularization)](#lasso)\n",
    "    + [Ridge Regression (L2 regularization)](#ridge)\n",
    "    + [Elastic Net (L1 & L2 regularization)](#elastic_net)\n"
   ]
  },
  {
   "cell_type": "markdown",
   "metadata": {},
   "source": [
    "<a id='linear'></a>\n",
    "## 1. LINEAR REGRESSION\n",
    "\n",
    "- LinearRegression fits a linear model with coefficients w = (w1, …, wp) to minimize the residual sum of squares between the observed targets in the dataset, and the targets predicted by the linear approximation. This is the Ordinary Least Squares method (OLS).\n",
    "- Attempt to draw a straightline that will best minimize the residual sum of squares between the observed samples in the dataset => Use this linear approximation to predict the responses.\n",
    "- The object of linear regression is to **minimize the \"Cost function\" or the \"Squared error function\" or the \"Mean squared error\" MSE**. \"Cost function\": 1/2 of the mean of the squares of the different between the predicted and actual values.\n",
    "- The predicted values is yi_pred = xi * regr.coef_ + regr.intercept_\n",
    "- Perform gradient descent to minimize the cost function. In each step of the gradient descent, coef_ and intercept_ come closed to the optimal values to achieve the lowest cost function."
   ]
  },
  {
   "cell_type": "markdown",
   "metadata": {},
   "source": [
    "## 1.1. Linear regression with single variable\n",
    "\n",
    "\n",
    "#### Case Study:\n",
    "- Predict profits for a food truck restaurant franchise based on the population of the cities.\n",
    "- Input file: \"restaurant_profits.txt\" \n",
    "- Data format: multiple line, each line contains 2 float numbers separated by \",\":\n",
    "    + Example: `\"6.110 for 1,17.592\"`\n",
    "    + First columns: the population of the city\n",
    "    + Second columns: the profit of a food truck in that city\n",
    "    + Negative profit: a loss in profit."
   ]
  },
  {
   "cell_type": "markdown",
   "metadata": {},
   "source": [
    "**Step 1: Load the data:**"
   ]
  },
  {
   "cell_type": "code",
   "execution_count": 43,
   "metadata": {},
   "outputs": [],
   "source": [
    "### import neccessary packages\n",
    "import pandas as pd\n",
    "import numpy as np\n",
    "import matplotlib.pyplot as plt\n",
    "### Import sklearn package\n",
    "from sklearn import datasets, linear_model\n",
    "from sklearn.metrics import mean_squared_error, r2_score\n",
    "from sklearn.model_selection import train_test_split"
   ]
  },
  {
   "cell_type": "code",
   "execution_count": 44,
   "metadata": {},
   "outputs": [
    {
     "name": "stdout",
     "output_type": "stream",
     "text": [
      "Error, end of line 49\n",
      "48 48\n"
     ]
    }
   ],
   "source": [
    "### Load the data\n",
    "with open('data/restaurant_profits.txt','r') as f:\n",
    "    X, y, i = [], [], 0\n",
    "    while f.readline():\n",
    "        i += 1\n",
    "        try:\n",
    "            xi, yi = f.readline().split(\"\\n\")[0].split(\",\")\n",
    "            X.append(float(xi))\n",
    "            y.append(float(yi))\n",
    "        except:\n",
    "            print(\"Error, end of line\", i)\n",
    "print(len(X), len(y))"
   ]
  },
  {
   "cell_type": "code",
   "execution_count": 45,
   "metadata": {},
   "outputs": [
    {
     "name": "stdout",
     "output_type": "stream",
     "text": [
      "8.359095833333333 6.252554583333333\n"
     ]
    }
   ],
   "source": [
    "X = np.array(X)\n",
    "y = np.array(y)\n",
    "print(X.mean(), y.mean())"
   ]
  },
  {
   "cell_type": "markdown",
   "metadata": {},
   "source": [
    "**Step 2: Plot the data:**"
   ]
  },
  {
   "cell_type": "code",
   "execution_count": 46,
   "metadata": {},
   "outputs": [
    {
     "data": {
      "image/png": "[encoded data removed]",
      "text/plain": [
       "<Figure size 432x288 with 1 Axes>"
      ]
     },
     "metadata": {
      "needs_background": "light"
     },
     "output_type": "display_data"
    }
   ],
   "source": [
    "plt.scatter(X, y, color = \"black\")\n",
    "plt.title(\"Profit vs Population in Each City\")\n",
    "plt.xlabel(\"Population\")\n",
    "plt.ylabel(\"Profit\")\n",
    "plt.show()"
   ]
  },
  {
   "cell_type": "markdown",
   "metadata": {},
   "source": [
    "**Step 3: Process the data**\n",
    "- The data looks good, no need to do any transformation right now.\n",
    "- Split the data into train/test sets (80:20)"
   ]
  },
  {
   "cell_type": "code",
   "execution_count": 47,
   "metadata": {},
   "outputs": [
    {
     "name": "stdout",
     "output_type": "stream",
     "text": [
      "39 8 39 8\n"
     ]
    }
   ],
   "source": [
    "### len(X) = 48, split into 40:8\n",
    "X_train, X_test = X[:39], X[40:]\n",
    "y_train, y_test = y[:39], y[40:]\n",
    "print(len(X_train), len(X_test), len(y_train), len(y_test))"
   ]
  },
  {
   "cell_type": "code",
   "execution_count": 48,
   "metadata": {},
   "outputs": [],
   "source": [
    "### using built-in split train_test set to have random split \n",
    "# default train/test size: 75:25\n",
    "# from sklearn.model_selection import train_test_split\n",
    "# X_train, X_test, y_train, y_test = train_test_split(X, y, test_size = 0.2, random_state = 42)\n",
    "# print(len(X_train), len(X_test), len(y_train), len(y_test))"
   ]
  },
  {
   "cell_type": "code",
   "execution_count": 49,
   "metadata": {},
   "outputs": [],
   "source": [
    "### Data has a single feature \n",
    "#=> Reshape your data either using array.reshape(-1, 1) or array.reshape(1, -1)\n",
    "X_train = X_train.reshape(-1,1)\n",
    "y_train = y_train.reshape(-1,1)\n",
    "X_test = X_test.reshape(-1,1)\n",
    "y_test = y_test.reshape(-1,1)"
   ]
  },
  {
   "cell_type": "markdown",
   "metadata": {},
   "source": [
    "**Step 4: Fit the data**"
   ]
  },
  {
   "cell_type": "code",
   "execution_count": 50,
   "metadata": {},
   "outputs": [
    {
     "data": {
      "text/plain": [
       "LinearRegression(copy_X=True, fit_intercept=True, n_jobs=None,\n",
       "         normalize=False)"
      ]
     },
     "execution_count": 50,
     "metadata": {},
     "output_type": "execute_result"
    }
   ],
   "source": [
    "### Create linear regression object\n",
    "regr = linear_model.LinearRegression()\n",
    "# Train the model using the train set\n",
    "regr.fit(X_train, y_train)"
   ]
  },
  {
   "cell_type": "markdown",
   "metadata": {},
   "source": [
    "**Step 5: Plot the train data with the regression line**"
   ]
  },
  {
   "cell_type": "code",
   "execution_count": 51,
   "metadata": {},
   "outputs": [
    {
     "data": {
      "image/png": "[encoded data removed]",
      "text/plain": [
       "<Figure size 432x288 with 1 Axes>"
      ]
     },
     "metadata": {
      "needs_background": "light"
     },
     "output_type": "display_data"
    }
   ],
   "source": [
    "plt.scatter(X_train, y_train, color = \"k\", alpha = 0.5)\n",
    "plt.plot(X_train, regr.predict(X_train), color = \"g\")\n",
    "plt.title(\"Population vs Profit - Training data with Linear regression line\")\n",
    "plt.xlabel(\"Population\")\n",
    "plt.ylabel(\"profit\")\n",
    "plt.show()"
   ]
  },
  {
   "cell_type": "markdown",
   "metadata": {},
   "source": [
    "**Step 6: Make prediction on the test data**"
   ]
  },
  {
   "cell_type": "code",
   "execution_count": 52,
   "metadata": {},
   "outputs": [
    {
     "data": {
      "text/plain": [
       "array([2.50379939])"
      ]
     },
     "execution_count": 52,
     "metadata": {},
     "output_type": "execute_result"
    }
   ],
   "source": [
    "### How to manually calculate y_test_pred based on X_test\n",
    "X_test[0][0]*regr.coef_[0][0] + regr.intercept_"
   ]
  },
  {
   "cell_type": "code",
   "execution_count": 53,
   "metadata": {},
   "outputs": [],
   "source": [
    "y_test_pred = regr.predict(X_test)"
   ]
  },
  {
   "cell_type": "markdown",
   "metadata": {},
   "source": [
    "**Step 7: Plot the predict data on test dataset with the regression line**"
   ]
  },
  {
   "cell_type": "code",
   "execution_count": 54,
   "metadata": {},
   "outputs": [
    {
     "data": {
      "image/png": "[encoded data removed]",
      "text/plain": [
       "<Figure size 432x288 with 1 Axes>"
      ]
     },
     "metadata": {
      "needs_background": "light"
     },
     "output_type": "display_data"
    }
   ],
   "source": [
    "plt.scatter(X_test, y_test, color = 'k', alpha = 0.5)\n",
    "plt.plot(X_test, y_test_pred, color = \"b\", linewidth = 3)\n",
    "plt.title(\"Predicted vs real value on the test set\")\n",
    "plt.xlabel(\"Population\")\n",
    "plt.ylabel(\"Profit\")\n",
    "plt.show()"
   ]
  },
  {
   "cell_type": "markdown",
   "metadata": {},
   "source": [
    "**Step 8: Evaluate the performance of the linear regression model**\n",
    "\n",
    "- What is the acceptable mean square error MSE and coefficient of determination R-squared value (R2)?\n",
    "    + Ideal values (when a model perfectly predicts the data): RMSE = 0, R2 = 1\n",
    "    + \"There is no torelable value of RMSE and R-2 during training and Testing..They completely depend on the problems what your are solving. If the data are too much scattered and nature of the problem is highly non-linear your R2 value would be less. If data are normally distributed and problem is linear you will get good R2 value. However if you are solving some critical problem like medical diagnosis in such a case you should have higher R2 value. It is better to check whether the same kinds of problem have been solved earlier. if so then you can compare those results...\"\n",
    "    + Need to balance between overfit (very low RMSE for training data) and underfit (very high RMSE for test/validation/unseen data).\n",
    "    + You cannot judge whether one R2 is good or not until you make comparisons with other state-of-the-art methods."
   ]
  },
  {
   "cell_type": "code",
   "execution_count": 55,
   "metadata": {},
   "outputs": [
    {
     "data": {
      "text/plain": [
       "array([[1.2741095]])"
      ]
     },
     "execution_count": 55,
     "metadata": {},
     "output_type": "execute_result"
    }
   ],
   "source": [
    "regr.coef_"
   ]
  },
  {
   "cell_type": "code",
   "execution_count": 56,
   "metadata": {},
   "outputs": [
    {
     "data": {
      "text/plain": [
       "array([-4.10679033])"
      ]
     },
     "execution_count": 56,
     "metadata": {},
     "output_type": "execute_result"
    }
   ],
   "source": [
    "regr.intercept_"
   ]
  },
  {
   "cell_type": "code",
   "execution_count": 57,
   "metadata": {},
   "outputs": [
    {
     "name": "stdout",
     "output_type": "stream",
     "text": [
      "Performance of the linear regression model:\n",
      "Coefficients:  1.2741094985101735\n",
      "The mean squared error: 4.59\n",
      "Coefficients of determination (Coefficient correlation) (1 is perfect prediction): 0.46\n"
     ]
    }
   ],
   "source": [
    "print(\"Performance of the linear regression model:\")\n",
    "print(\"Coefficients: \", regr.coef_[0][0])\n",
    "print(\"The mean squared error: %.2f\"%mean_squared_error(y_test, y_test_pred))\n",
    "print(\"Coefficients of determination (Coefficient correlation) (1 is perfect prediction): %.2f\"%r2_score(y_test, y_test_pred))"
   ]
  },
  {
   "cell_type": "code",
   "execution_count": 58,
   "metadata": {},
   "outputs": [
    {
     "name": "stdout",
     "output_type": "stream",
     "text": [
      "The mean square error of training data: 7.48\n",
      "The mean square error of testing data: 4.59\n"
     ]
    }
   ],
   "source": [
    "### Compare MSE between training and testing\n",
    "print(\"The mean square error of training data: %.2f\"%mean_squared_error(y_train, regr.predict(X_train)))\n",
    "print(\"The mean square error of testing data: %.2f\"%mean_squared_error(y_test, y_test_pred))"
   ]
  },
  {
   "cell_type": "code",
   "execution_count": 59,
   "metadata": {},
   "outputs": [
    {
     "name": "stdout",
     "output_type": "stream",
     "text": [
      "r-squared score on test set 0.45591459610854324\n",
      "r-squared score on train set 0.8196413736164514\n"
     ]
    }
   ],
   "source": [
    "### Extract from regr, stats on test and train datasets\n",
    "print(\"r-squared score on test set\", regr.score(X_test, y_test))\n",
    "print(\"r-squared score on train set\", regr.score(X_train, y_train))\n",
    "# => more bias, since r-squared score on train set > test set but not so accurate"
   ]
  },
  {
   "cell_type": "markdown",
   "metadata": {},
   "source": [
    "## 1.2. Linear regression with multiple variables\n",
    "\n",
    "#### Case Study:\n",
    "- Predict housing prices in a city based on the size of the house (in square feet), and the number of bedrooms\n",
    "- Input file: \"housing_price.txt\" \n",
    "- Data format: multiple line, each line contains 3 float numbers separated by \",\":\n",
    "    + Example: `\"6.110 for 1,17.592\"`\n",
    "    + First columns: the size of the house (in square feet) - type int\n",
    "    + Second columns: the number of bedrooms - type int\n",
    "    + Third columns: the price of the house - type int"
   ]
  },
  {
   "cell_type": "markdown",
   "metadata": {},
   "source": [
    "**Step 1: Load the data**"
   ]
  },
  {
   "cell_type": "code",
   "execution_count": 68,
   "metadata": {},
   "outputs": [
    {
     "name": "stdout",
     "output_type": "stream",
     "text": [
      "Parsing error\n",
      "47 47\n"
     ]
    }
   ],
   "source": [
    "with open(\"data/housing_price.txt\",'r') as f:\n",
    "    data = f.read().split(\"\\n\")\n",
    "X, y = [], []\n",
    "for val in data:\n",
    "    try:\n",
    "        x1, x2, yi = val.split(\",\")\n",
    "        X.append([float(x1), float(x2)])\n",
    "        y.append(float(yi))\n",
    "    except:\n",
    "        print(\"Parsing error\")\n",
    "print(len(X), len(y))"
   ]
  },
  {
   "cell_type": "code",
   "execution_count": 69,
   "metadata": {},
   "outputs": [],
   "source": [
    "X = np.array(X)\n",
    "y = np.array(y)"
   ]
  },
  {
   "cell_type": "markdown",
   "metadata": {},
   "source": [
    "**Step 2: Plot the data**\n",
    "- 2 features could be plot using 3D plot"
   ]
  },
  {
   "cell_type": "code",
   "execution_count": 70,
   "metadata": {},
   "outputs": [
    {
     "data": {
      "image/png": "[encoded data removed]",
      "text/plain": [
       "<Figure size 864x576 with 1 Axes>"
      ]
     },
     "metadata": {
      "needs_background": "light"
     },
     "output_type": "display_data"
    }
   ],
   "source": [
    "from mpl_toolkits.mplot3d import Axes3D\n",
    "\n",
    "fig = plt.figure(figsize = (12,8))\n",
    "ax = plt.axes(projection = '3d')\n",
    "p = ax.scatter3D(X[:,0], X[:,1], y)\n",
    "ax.set_xlabel('size of house')\n",
    "ax.set_ylabel('number of bedroom')\n",
    "ax.set_zlabel('house price')\n",
    "\n",
    "plt.show()"
   ]
  },
  {
   "cell_type": "markdown",
   "metadata": {},
   "source": [
    "**Step 3: Process the data**"
   ]
  },
  {
   "cell_type": "code",
   "execution_count": 71,
   "metadata": {},
   "outputs": [
    {
     "name": "stdout",
     "output_type": "stream",
     "text": [
      "37 10 37 10\n"
     ]
    }
   ],
   "source": [
    "# from sklearn.model_selection import train_test_split\n",
    "X_train, X_test, y_train, y_test = train_test_split(X, y, test_size = 0.2, random_state = 42)\n",
    "print(len(X_train), len(X_test), len(y_train), len(y_test))"
   ]
  },
  {
   "cell_type": "markdown",
   "metadata": {},
   "source": [
    "**Step 4: Fit the data**"
   ]
  },
  {
   "cell_type": "code",
   "execution_count": 72,
   "metadata": {},
   "outputs": [
    {
     "data": {
      "text/plain": [
       "LinearRegression(copy_X=True, fit_intercept=True, n_jobs=None,\n",
       "         normalize=False)"
      ]
     },
     "execution_count": 72,
     "metadata": {},
     "output_type": "execute_result"
    }
   ],
   "source": [
    "### Create linear regression object\n",
    "regr = linear_model.LinearRegression()\n",
    "# Train the model using the train set\n",
    "regr.fit(X_train, y_train)"
   ]
  },
  {
   "cell_type": "code",
   "execution_count": 73,
   "metadata": {},
   "outputs": [
    {
     "name": "stdout",
     "output_type": "stream",
     "text": [
      "Performance of the linear regression model on the train data:\n",
      "The mean squared error: 3058269204.31\n",
      "Coefficients of determination (Coefficient correlation) (1 is perfect prediction): 0.77\n"
     ]
    }
   ],
   "source": [
    "print(\"Performance of the linear regression model on the train data:\")\n",
    "print(\"The mean squared error: %.2f\"%mean_squared_error(y_train, regr.predict(X_train)))\n",
    "print(\"Coefficients of determination (Coefficient correlation) (1 is perfect prediction): %.2f\"%r2_score(y_train, regr.predict(X_train)))"
   ]
  },
  {
   "cell_type": "code",
   "execution_count": 74,
   "metadata": {},
   "outputs": [
    {
     "name": "stdout",
     "output_type": "stream",
     "text": [
      "Performance of the linear regression model on the test data:\n",
      "The mean squared error: 8610424544.78\n",
      "Coefficients of determination (Coefficient correlation) (1 is perfect prediction): 0.51\n"
     ]
    }
   ],
   "source": [
    "y_test_pred = regr.predict(X_test)\n",
    "print(\"Performance of the linear regression model on the test data:\")\n",
    "print(\"The mean squared error: %.2f\"%mean_squared_error(y_test, y_test_pred))\n",
    "print(\"Coefficients of determination (Coefficient correlation) (1 is perfect prediction): %.2f\"%r2_score(y_test, y_test_pred))"
   ]
  },
  {
   "cell_type": "markdown",
   "metadata": {},
   "source": [
    "<a id='regularization'></a>\n",
    "## 2. LINEAR REGRESSION WITH REGULARIZATION\n",
    "\n",
    "- Drawbacks of basic linear regression:\n",
    "    + Overfit if the model has many input features\n",
    "    + Cannot easily express non-linear relationships.\n",
    "=> Regularization could be used to prevent overfitting by artificially penalizing model coefficients:\n",
    "    + Discourage large coefficients (by dampening them).\n",
    "    + Remove features entirely (by setting their coefficients to 0)\n",
    "- 3 regularized linear regression algorithms:\n",
    "    + Lasso Regression (L1 regularization)\n",
    "    + Ridge Regression (L2 regularization)\n",
    "    + Elastic-Net (L1 & L2 regularization)"
   ]
  },
  {
   "cell_type": "markdown",
   "metadata": {},
   "source": [
    "<a id='lasso'></a>\n",
    "### 2.1.  LASSO REGRESSION \n",
    "\n",
    "- Least Absolute Shrinkage and Selection Operator\n",
    "- The loss function is modified to minimize the complexity of the model.\n",
    "- Works by penalizing the absolute size of coefficients though limiting the sum of the absolute value of the coefficients.\n",
    "- This is the L1 normalization:\n",
    "    `loss function = OLS + alpha * sum(abs(coefficient))`\n",
    "- Could be used as automatic feature selection because it can completely remove some features. The coefficients of less important features are reduced to zero.\n",
    "\n",
    "- **Parameters need to be tuned**:\n",
    "    + alpha, default = 1.0. When alpha = 0:  this is the OLS regression.\n",
    "    + Range to test: [0.01, 0.1, 0.5, 1.0]"
   ]
  },
  {
   "cell_type": "code",
   "execution_count": 79,
   "metadata": {},
   "outputs": [
    {
     "name": "stdout",
     "output_type": "stream",
     "text": [
      "[   143.21837434 -13512.32422146]\n"
     ]
    }
   ],
   "source": [
    "### Create linear regression object\n",
    "regr = linear_model.Lasso(alpha = .1)\n",
    "# Train the model using the train set\n",
    "regr.fit(X_train, y_train)\n",
    "print(regr.coef_)"
   ]
  },
  {
   "cell_type": "code",
   "execution_count": 102,
   "metadata": {},
   "outputs": [
    {
     "name": "stdout",
     "output_type": "stream",
     "text": [
      "Performance of the linear regression model on the train data:\n",
      "The root mean squared error (RMSE): 55815.54\n",
      "Coefficients of determination (Coefficient correlation - R-squared score) (1 is perfect prediction): 0.76\n",
      "Performance of the linear regression model on the test data:\n",
      "The root mean squared error (RMSE): 91803.60\n",
      "Coefficients of determination (Coefficient correlation - R-squared score) (1 is perfect prediction): 0.53\n"
     ]
    }
   ],
   "source": [
    "y_train_pred = regr.predict(X_train)\n",
    "print(\"Performance of the linear regression model on the train data:\")\n",
    "print(\"The root mean squared error (RMSE): %.2f\"%np.sqrt(mean_squared_error(y_train, y_train_pred)))\n",
    "print(\"Coefficients of determination (Coefficient correlation - R-squared score) (1 is perfect prediction): %.2f\"%r2_score(y_train, y_train_pred))\n",
    "\n",
    "y_test_pred = regr.predict(X_test)\n",
    "print(\"Performance of the linear regression model on the test data:\")\n",
    "print(\"The root mean squared error (RMSE): %.2f\"%np.sqrt(mean_squared_error(y_test, y_test_pred)))\n",
    "print(\"Coefficients of determination (Coefficient correlation - R-squared score) (1 is perfect prediction): %.2f\"%r2_score(y_test, y_test_pred))"
   ]
  },
  {
   "cell_type": "markdown",
   "metadata": {},
   "source": [
    "<a id='ridge'></a>\n",
    "### 2.2.  RIDGE REGRESSION\n",
    "\n",
    "- Feature shrinkage\n",
    "- The loss function is modified to minimize the complexity of the model.\n",
    "- Works by penalizing the **square of coefficients**.\n",
    "- This is the L2 normalization:\n",
    "    `loss function = OLS + alpha * sum(squared(coefficient))`\n",
    "- Practically, this leads to smaller coefficients but not forced to 0.\n",
    "\n",
    "- **Parameters need to be tuned**:\n",
    "    + alpha, default = 1.0. When alpha = 0:  this is the OLS regression.\n",
    "    + Low alpha: over-fitting, High alpha: under-fitting since it leads to coefficients closer to 0."
   ]
  },
  {
   "cell_type": "code",
   "execution_count": 97,
   "metadata": {},
   "outputs": [
    {
     "name": "stdout",
     "output_type": "stream",
     "text": [
      "[  135.54015369 -1804.56592797]\n"
     ]
    }
   ],
   "source": [
    "### Create linear regression object\n",
    "regr = linear_model.Ridge(alpha = 100)\n",
    "# Train the model using the train set\n",
    "regr.fit(X_train, y_train)\n",
    "print(regr.coef_)"
   ]
  },
  {
   "cell_type": "code",
   "execution_count": 103,
   "metadata": {},
   "outputs": [
    {
     "name": "stdout",
     "output_type": "stream",
     "text": [
      "Performance of the linear regression model on the train data:\n",
      "The root mean squared error (RMSE): 55815.54\n",
      "Coefficients of determination (Coefficient correlation - R-squared score) (1 is perfect prediction): 0.76\n",
      "Performance of the linear regression model on the test data:\n",
      "The root mean squared error (RMSE): 91803.60\n",
      "Coefficients of determination (Coefficient correlation - R-squared score) (1 is perfect prediction): 0.53\n"
     ]
    }
   ],
   "source": [
    "y_train_pred = regr.predict(X_train)\n",
    "print(\"Performance of the linear regression model on the train data:\")\n",
    "print(\"The root mean squared error (RMSE): %.2f\"%np.sqrt(mean_squared_error(y_train, y_train_pred)))\n",
    "print(\"Coefficients of determination (Coefficient correlation - R-squared score) (1 is perfect prediction): %.2f\"%r2_score(y_train, y_train_pred))\n",
    "\n",
    "y_test_pred = regr.predict(X_test)\n",
    "print(\"Performance of the linear regression model on the test data:\")\n",
    "print(\"The root mean squared error (RMSE): %.2f\"%np.sqrt(mean_squared_error(y_test, y_test_pred)))\n",
    "print(\"Coefficients of determination (Coefficient correlation - R-squared score) (1 is perfect prediction): %.2f\"%r2_score(y_test, y_test_pred))"
   ]
  },
  {
   "cell_type": "markdown",
   "metadata": {},
   "source": [
    "<a id='elastic_net'></a>\n",
    "### 2.3.  ELASTIC-NET\n",
    "\n",
    "- Compromise betqeen Lasso and Ridge.\n",
    "- Penalize both the absolute and squared size of coefficients \n",
    "- This is the L1 & L2 normalization.\n",
    "\n",
    "- **Parameters need to be tuned**:\n",
    "    + Ratio of the 2 penalty types l1_ratio should be tuned, default = 0.5. l1_ratio = 1 => Lasso regression, l1_ratio = 0 => Ridge regression.\n",
    "    + alpha, default = 1.0. When alpha = 0:  this is the OLS regression."
   ]
  },
  {
   "cell_type": "code",
   "execution_count": 108,
   "metadata": {},
   "outputs": [
    {
     "name": "stdout",
     "output_type": "stream",
     "text": [
      "[ 134.85315023 -758.51428749]\n"
     ]
    }
   ],
   "source": [
    "### Create linear regression object\n",
    "regr = linear_model.ElasticNet(alpha = 10, l1_ratio = 0.3)\n",
    "# Train the model using the train set\n",
    "regr.fit(X_train, y_train)\n",
    "print(regr.coef_)"
   ]
  },
  {
   "cell_type": "code",
   "execution_count": 109,
   "metadata": {},
   "outputs": [
    {
     "name": "stdout",
     "output_type": "stream",
     "text": [
      "Performance of the linear regression model on the train data:\n",
      "The root mean squared error (RMSE): 55910.95\n",
      "Coefficients of determination (Coefficient correlation - R-squared score) (1 is perfect prediction): 0.76\n",
      "Performance of the linear regression model on the test data:\n",
      "The root mean squared error (RMSE): 91738.70\n",
      "Coefficients of determination (Coefficient correlation - R-squared score) (1 is perfect prediction): 0.53\n"
     ]
    }
   ],
   "source": [
    "y_train_pred = regr.predict(X_train)\n",
    "print(\"Performance of the linear regression model on the train data:\")\n",
    "print(\"The root mean squared error (RMSE): %.2f\"%np.sqrt(mean_squared_error(y_train, y_train_pred)))\n",
    "print(\"Coefficients of determination (Coefficient correlation - R-squared score) (1 is perfect prediction): %.2f\"%r2_score(y_train, y_train_pred))\n",
    "\n",
    "y_test_pred = regr.predict(X_test)\n",
    "print(\"Performance of the linear regression model on the test data:\")\n",
    "print(\"The root mean squared error (RMSE): %.2f\"%np.sqrt(mean_squared_error(y_test, y_test_pred)))\n",
    "print(\"Coefficients of determination (Coefficient correlation - R-squared score) (1 is perfect prediction): %.2f\"%r2_score(y_test, y_test_pred))"
   ]
  }
 ],
 "metadata": {
  "kernelspec": {
   "display_name": "Python [conda env:data_analysis] *",
   "language": "python",
   "name": "conda-env-data_analysis-py"
  },
  "language_info": {
   "codemirror_mode": {
    "name": "ipython",
    "version": 3
   },
   "file_extension": ".py",
   "mimetype": "text/x-python",
   "name": "python",
   "nbconvert_exporter": "python",
   "pygments_lexer": "ipython3",
   "version": "3.7.7"
  }
 },
 "nbformat": 4,
 "nbformat_minor": 4
}
